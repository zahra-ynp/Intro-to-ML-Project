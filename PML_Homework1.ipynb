{
  "cells": [
    {
      "cell_type": "markdown",
      "metadata": {
        "id": "view-in-github",
        "colab_type": "text"
      },
      "source": [
        "<a href=\"https://colab.research.google.com/github/zahra-ynp/Intro-to-ML-Project/blob/main/PML_Homework1.ipynb\" target=\"_parent\"><img src=\"https://colab.research.google.com/assets/colab-badge.svg\" alt=\"Open In Colab\"/></a>"
      ]
    },
    {
      "cell_type": "markdown",
      "metadata": {
        "id": "ccbc2313"
      },
      "source": [
        "<a href=\"https://colab.research.google.com/github/r-doz/PML2025/blob/main/./Homeworks/Homework_1.ipynb\" target=\"_parent\"><img src=\"https://colab.research.google.com/assets/colab-badge.svg\" alt=\"Open In Colab\"/></a>"
      ]
    },
    {
      "cell_type": "markdown",
      "metadata": {
        "id": "ArHGGLvhSbtQ"
      },
      "source": [
        "## Homework 1\n",
        "\n",
        "Probabilistic Machine Learning -- Spring 2025, UniTS"
      ]
    },
    {
      "cell_type": "markdown",
      "metadata": {
        "id": "ZKh87NybSbtS"
      },
      "source": [
        "### Exercise 1: KL Divergence Between Two Gaussian Distributions\n",
        "\n",
        "Given two multivariate Gaussian distributions:\n",
        "\n",
        "$$\n",
        "p(x) = \\mathcal{N}(x \\mid \\mu, \\Sigma)\n",
        "$$\n",
        "\n",
        "$$\n",
        "q(x) = \\mathcal{N}(x \\mid m, L)\n",
        "$$\n",
        "\n",
        "where:\n",
        "- $\\mu$ and $ \\Sigma $ are the mean vector and covariance matrix of $ p(x) $,\n",
        "- $ m $ and $ L $ are the mean vector and covariance matrix of $ q(x) $,\n",
        "\n",
        "\n",
        "1. **Derive the closed-form expression** for $D_{\\text{KL}}(p \\parallel q)$ starting from the definition.\n",
        "\n",
        "2. **Implement a Python function** that computes the closed-form expression of the KL divergence for two-dimensional Gaussian distributions using only **numpy** functions.\n",
        "\n",
        "3. **Test the function** on the following concrete example where both $ p(x) $ and $q(x)$ are two-dimensional Gaussians.\n",
        "\n",
        "4. Implement another Python function which calculates an **approximation of $D_{\\text{KL}}(p \\parallel q)$ from samples** of p and q. Compare the results.\n"
      ]
    },
    {
      "cell_type": "code",
      "execution_count": null,
      "metadata": {
        "id": "IWsjRQdOSbtT"
      },
      "outputs": [],
      "source": [
        "import numpy as np\n",
        "import matplotlib.pyplot as plt\n",
        "\n",
        "np.random.seed(42)\n",
        "\n",
        "mu_p = np.array([10, 12])\n",
        "sigma_p = np.array([[3, 0.5], [0.5, 2]])\n",
        "mu_q = np.array([14, 10])\n",
        "sigma_q = np.array([[2, 0.3], [0.3, 1]])\n",
        "\n",
        "data_points = 1000\n",
        "\n",
        "p_samples = np.random.multivariate_normal(mu_p, sigma_p, data_points)\n",
        "q_samples = np.random.multivariate_normal(mu_q, sigma_q, data_points)\n",
        "\n",
        "# p, q samples visualization\n",
        "plt.figure(figsize=(8, 6))\n",
        "plt.scatter(p_samples[:, 0], p_samples[:, 1], alpha=0.5, label='p(x)', color='blue')\n",
        "plt.scatter(q_samples[:, 0], q_samples[:, 1], alpha=0.5, label='q(x)', color='red')\n",
        "plt.title('Samples drawn from two multivariate Gaussians')\n",
        "plt.xlabel('x')\n",
        "plt.ylabel('y')\n",
        "plt.legend()\n",
        "plt.grid(True)\n",
        "plt.show()"
      ]
    },
    {
      "cell_type": "markdown",
      "metadata": {
        "id": "415j2bx3SbtV"
      },
      "source": [
        "### Exercise 2: Entropy of nonsingular linear transformations\n",
        "\n",
        "Consider a vector $x$ of continuous variables with distribution $p(\\mathbf{x})$ and corresponding entropy $H[\\mathbf{x}]$. Suppose that we make a nonsingular linear transformation of $x$ to obtain a new variable $y = Ax$. Show that the corresponding entropy is given by\n",
        "\n",
        "$$\n",
        "H[\\mathbf{y}] = H[\\mathbf{x}] + \\ln |\\mathbf{A}|\n",
        "$$\n",
        "\n",
        "where $|\\mathbf{A}|$ denotes the determinant of $A$.\n"
      ]
    },
    {
      "cell_type": "markdown",
      "metadata": {
        "id": "ddc-ffrLSbtW"
      },
      "source": [
        "### Exercise 3: A good reason to go to university\n",
        "\n",
        "You enrolled to a small tennis tournament organized by your university, that has only other three participants: let's call them $A$, $B$ and $C$.\n",
        "Your first match will be against $A$, and it's scheduled after the match between $A$ and $B$ and the match between $B$ and $C$.\n",
        "\n",
        "Assuming the result of a match $M \\in \\{0,1\\}$ between two players $X$ and $Y$ ($M=1$ means $X$ won, $M=0$ means $Y$ won) is described by the following model:\n",
        "\n",
        "$$M \\sim Bern(p)$$\n",
        "\n",
        "where $p = f(2(S_x - S_y))$ with $f(k) = \\frac{1}{1 + e^{-k}}$ and\n",
        "\n",
        "$$S_i \\sim \\mathcal{N}(0,1)$$\n",
        "\n",
        "is the \"latent\" skill of player $i$ (always the same for every match that player $i$ plays)\n",
        "\n",
        "1. Show a bayesian network describing the relationship between all the involved random variables.\n",
        "\n",
        "2. Make a model in pyro describing the stochastic process.\n",
        "\n",
        "3. Estimate by simulation the probability of (you) winninng against $A$, given that $A$ won against $B$ and $B$ won against $C$. Use exactly 30000 samples and call `set_seed()` before sampling.\n"
      ]
    },
    {
      "cell_type": "code",
      "execution_count": null,
      "metadata": {
        "id": "l4aJqK4tSbtX"
      },
      "outputs": [],
      "source": [
        "import random\n",
        "import numpy as np\n",
        "import torch\n",
        "\n",
        "def set_seed():\n",
        "    seed = 0\n",
        "    random.seed(seed)\n",
        "    np.random.seed(seed)\n",
        "    torch.manual_seed(seed)"
      ]
    },
    {
      "cell_type": "markdown",
      "metadata": {
        "id": "xvVn_xFuSbtX"
      },
      "source": [
        "### Exercise 4: Bayesian Inference on Carrier Status for Hemophilia\n",
        "\n",
        "Hemophilia is caused by a **recessive gene** located on the **X-chromosome**. If $X^*$ denotes an X-chromosome carrying the hemophilia gene, then:\n",
        "  - $X^*X^*$ represents a **female with the disease**.\n",
        "  - $X^*X$ represents a **female without the disease but carrying the gene**.\n",
        "  - $X^*Y$ represents a **male with the disease**.  \n",
        "\n",
        "Mary has:  \n",
        "- **An affected brother** ($X^*Y$),  \n",
        "- **An unaffected mother** ($XX$ or $X^*X$),  \n",
        "- **An unaffected father** ($XY$).  \n",
        "\n",
        "Since Mary’s **brother is affected**, he must have inherited an $X^*$ from the **mother**, implying that the **mother is a carrier** ($X^*X$).  \n",
        "\n",
        "Let $\\theta$ be an indicator variable where:  \n",
        "- $\\theta = 1$ if Mary is a **gene carrier** ($X^*X$),  \n",
        "- $\\theta = 0$ if Mary is **not a carrier** ($XX$).  \n",
        "\n",
        "Given the above information, before any additional observations, we assign the **prior probability**:\n",
        "\n",
        "$$\n",
        "P(\\theta = 1) = \\frac{1}{2}\n",
        "$$\n",
        "\n",
        "\n",
        "Mary has **two sons** (not identical twins, with unaffected father), both of whom are **not affected** by hemophilia.  \n",
        "\n",
        "Let $y_i$ be an indicator variable where:  \n",
        "- $y_i = 1$ if the $i$-th son is affected,  \n",
        "- $y_i = 0$ if the $i$-th son is unaffected.  \n",
        "\n",
        "Since males inherit their **X-chromosome from their mother**, if Mary is a carrier ($\\theta = 1$), each son has a **50% chance** of being affected.  \n",
        "\n",
        "The probability of both sons being unaffected (we denote this event, i.e. $y_1 = 0$ AND $y_2 = 0$, with $y=1$), given $\\theta$, is:\n",
        "\n",
        "$$\n",
        "P(y = 1 \\mid \\theta) =\n",
        "\\begin{cases}  \n",
        "0.25, & \\text{if } \\theta = 1 \\\\  \n",
        "1, & \\text{if } \\theta = 0\n",
        "\\end{cases}\n",
        "$$\n",
        "\n",
        "1) Calculate $P(y)$\n",
        "\n",
        "2) Considering that both the sons are unaffected, calculate the posterior $P(\\theta = 1 | y)$\n",
        "\n",
        "3) What is the probability that a third son is affected? Calculate the predictive distribution\n",
        "\n",
        "4) Suppose a third son is born and he is not affected, update the posterior by computing $P(\\theta = 1 | y, y_3 = 0)$\n"
      ]
    },
    {
      "cell_type": "markdown",
      "metadata": {
        "id": "F_u481qESbtZ"
      },
      "source": [
        "### Exercise 5: Hierarchical model in Pyro\n",
        "\n",
        "In this problem, we consider a hierarchical model that represents the distribution of test scores across multiple schools. Our goal is to define a generative model that captures both **global** and **school-specific** variations in scores.\n",
        "\n",
        "- There are **N** schools, each having **M** students and a different average performance.\n",
        "- The **global mean score** across all schools follows a normal prior.\n",
        " $$\n",
        "   \\mu_{\\text{global}} \\sim \\mathcal{N}(0, 5)\n",
        "   $$\n",
        "\n",
        "- Each **school-specific mean** is derived from the global mean with a random offset: each school $i$ has a deviation from the global mean:\n",
        "\n",
        "   $$\n",
        "   \\theta_i \\sim \\mathcal{N}(0, 1), \\quad i = 1, \\dots, N\n",
        "   $$\n",
        "\n",
        "   s.t.\n",
        "\n",
        "   $$\n",
        "   \\mu_i = \\mu_{\\text{global}} + \\theta_i\n",
        "   $$\n",
        "- **Individual student scores** are drawn from a normal distribution with their school's mean: each student $j$ in school $i$ receives a test score:\n",
        "\n",
        "   $$\n",
        "   y_{ij} \\sim \\mathcal{N}(\\mu_i, 1), \\quad j = 1, \\dots, M\n",
        "   $$\n",
        "\n",
        "Generative model:\n",
        "\n",
        "1) Sample the global mean\n",
        "2) For each school, sample its offset and compute its mean.\n",
        "3) For each student in each school, sample their test score\n",
        "4) Plot one histogram for each school, showing the distribution of the student scores.\n",
        "\n",
        "**NOTE: use the plate notation!**"
      ]
    },
    {
      "cell_type": "markdown",
      "metadata": {
        "id": "Hy6mguSUSbtZ"
      },
      "source": [
        "### Exercise 6: Extending Belief Propagation to the Sum-Product Algorithm\n",
        "\n",
        "In the notebook *\"Exact Inference with Belief Propagation\"*, we previously computed the marginal distribution of a given variable using the message-passing method. Now, we aim to extend this implementation to the sum-product algorithm.\n",
        "\n",
        "1. **Extend the `Messages` class** by adding the following methods:  \n",
        "   - **`forward`**: Computes the forward pass.  \n",
        "   - **`backward`**: Computes the backward pass.  \n",
        "   - **`belief_propagation`**: Executes the forward and backward passes, then uses the computed messages to determine all marginal distributions. This method should return a dictionary mapping each variable name to its corresponding marginal distribution.  \n",
        "\n",
        "2. **Apply the `belief_propagation` method** to compute the marginal distributions of the variables in the factor graph described on page 43 of the course notes.  \n",
        "\n",
        "For this exercise, please submit the updated notebook **`04_exact_inference.ipynb`**, including your additional code.\n",
        "\n",
        "**NOTE: Make sure to add comments to all the code you write!**"
      ]
    }
  ],
  "metadata": {
    "kernelspec": {
      "display_name": "general",
      "language": "python",
      "name": "python3"
    },
    "language_info": {
      "codemirror_mode": {
        "name": "ipython",
        "version": 3
      },
      "file_extension": ".py",
      "mimetype": "text/x-python",
      "name": "python",
      "nbconvert_exporter": "python",
      "pygments_lexer": "ipython3",
      "version": "3.12.8"
    },
    "colab": {
      "provenance": [],
      "include_colab_link": true
    }
  },
  "nbformat": 4,
  "nbformat_minor": 0
}